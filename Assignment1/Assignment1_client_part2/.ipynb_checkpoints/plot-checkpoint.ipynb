{
 "cells": [
  {
   "cell_type": "code",
   "execution_count": null,
   "id": "cdc6ee7b",
   "metadata": {},
   "outputs": [],
   "source": [
    "import pandas as pd\n",
    "import numpy as np\n",
    "import matplotlib.pyplot as plt"
   ]
  },
  {
   "cell_type": "code",
   "execution_count": null,
   "id": "d13bb118",
   "metadata": {},
   "outputs": [],
   "source": [
    "df = pd.read_csv(\"records.csv\")\n",
    "df.head()"
   ]
  },
  {
   "cell_type": "code",
   "execution_count": null,
   "id": "8b7642fc",
   "metadata": {},
   "outputs": [],
   "source": [
    "df_sorted = df.sort_values(by=\"Start Time\")\n",
    "df_sorted[\"Start Time\"] -= df_sorted[\"Start Time\"].min()\n",
    "print(df_sorted[\"Start Time\"].max())\n",
    "df_sorted[\"Start Time\"] //= 1000\n",
    "df_sorted.head()"
   ]
  },
  {
   "cell_type": "code",
   "execution_count": null,
   "id": "373aa658",
   "metadata": {},
   "outputs": [],
   "source": [
    "bins = np.arange(df_sorted[\"Start Time\"].min(), df_sorted[\"Start Time\"].max() + 2)"
   ]
  },
  {
   "cell_type": "code",
   "execution_count": null,
   "id": "fe32f84c",
   "metadata": {},
   "outputs": [],
   "source": [
    "plt.subplots(figsize=(16, 8))\n",
    "plt.hist(df_sorted[\"Start Time\"], bins)\n",
    "plt.xticks(np.arange(df_sorted[\"Start Time\"].min(), df_sorted[\"Start Time\"].max() + 2, 10))\n",
    "plt.xlabel(\"Time intervels(secs)\")\n",
    "plt.ylabel(\"Throughput/second\")\n",
    "plt.title(\"Histogram\")\n",
    "plt.show()"
   ]
  },
  {
   "cell_type": "code",
   "execution_count": null,
   "id": "7cdecdd4",
   "metadata": {},
   "outputs": [],
   "source": []
  }
 ],
 "metadata": {
  "kernelspec": {
   "display_name": "Python 3",
   "language": "python",
   "name": "python3"
  },
  "language_info": {
   "codemirror_mode": {
    "name": "ipython",
    "version": 3
   },
   "file_extension": ".py",
   "mimetype": "text/x-python",
   "name": "python",
   "nbconvert_exporter": "python",
   "pygments_lexer": "ipython3",
   "version": "3.8.8"
  }
 },
 "nbformat": 4,
 "nbformat_minor": 5
}
